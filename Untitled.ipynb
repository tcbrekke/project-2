{
 "cells": [
  {
   "cell_type": "code",
   "execution_count": 1,
   "metadata": {},
   "outputs": [],
   "source": [
    "import os"
   ]
  },
  {
   "cell_type": "code",
   "execution_count": 3,
   "metadata": {},
   "outputs": [
    {
     "data": {
      "text/plain": [
       "environ({'TERM_PROGRAM': 'Apple_Terminal', 'TERM': 'xterm-color', 'SHELL': '/bin/bash', 'TMPDIR': '/var/folders/p0/dflm4gk542s8400msmhx74tr0000gn/T/', 'CONDA_SHLVL': '1', 'Apple_PubSub_Socket_Render': '/private/tmp/com.apple.launchd.j7IaRIDm6R/Render', 'CONDA_PROMPT_MODIFIER': '(Project2) ', 'TERM_PROGRAM_VERSION': '404', 'TERM_SESSION_ID': '625FA217-ED1A-4BF9-BB49-84D4E3380664', 'USER': 'tcbrekke', 'SSH_AUTH_SOCK': '/private/tmp/com.apple.launchd.fkAmJE913H/Listeners', 'PATH': '/Users/tcbrekke/anaconda3/bin:/Users/tcbrekke/anaconda3/envs/Project2/bin:/Users/tcbrekke/anaconda3/bin:/Library/Frameworks/Python.framework/Versions/2.7/bin:/usr/local/bin:/usr/bin:/bin:/usr/sbin:/sbin', 'CONDA_PREFIX': '/Users/tcbrekke/anaconda3/envs/Project2', 'PWD': '/Users/tcbrekke/boot-camp-homework/project-2', 'LANG': 'en_US.UTF-8', 'XPC_FLAGS': '0x0', 'XPC_SERVICE_NAME': '0', 'HOME': '/Users/tcbrekke', 'SHLVL': '1', 'CONDA_PYTHON_EXE': '/Users/tcbrekke/anaconda3/bin/python', 'LOGNAME': 'tcbrekke', 'CONDA_DEFAULT_ENV': 'Project2', '_': '/Users/tcbrekke/anaconda3/bin/jupyter', 'JPY_PARENT_PID': '47927', 'CLICOLOR': '1', 'PAGER': 'cat', 'GIT_PAGER': 'cat', 'MPLBACKEND': 'module://ipykernel.pylab.backend_inline'})"
      ]
     },
     "execution_count": 3,
     "metadata": {},
     "output_type": "execute_result"
    }
   ],
   "source": [
    "os.environ"
   ]
  },
  {
   "cell_type": "code",
   "execution_count": null,
   "metadata": {},
   "outputs": [],
   "source": []
  }
 ],
 "metadata": {
  "kernelspec": {
   "display_name": "Python 3",
   "language": "python",
   "name": "python3"
  },
  "language_info": {
   "codemirror_mode": {
    "name": "ipython",
    "version": 3
   },
   "file_extension": ".py",
   "mimetype": "text/x-python",
   "name": "python",
   "nbconvert_exporter": "python",
   "pygments_lexer": "ipython3",
   "version": "3.6.4"
  }
 },
 "nbformat": 4,
 "nbformat_minor": 2
}
